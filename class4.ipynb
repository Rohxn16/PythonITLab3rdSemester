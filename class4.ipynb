{
 "cells": [
  {
   "cell_type": "markdown",
   "metadata": {},
   "source": [
    "# 18-Sep-2024"
   ]
  },
  {
   "cell_type": "code",
   "execution_count": 1,
   "metadata": {},
   "outputs": [
    {
     "name": "stdout",
     "output_type": "stream",
     "text": [
      "Hello Rohan\n",
      "Hello Rohan\n",
      "Hello Rohan\n",
      "Hello Rohan\n",
      "Hello Rohan\n",
      "Hello Rohan\n",
      "Hello Rohan\n",
      "Hello Rohan\n",
      "Hello Rohan\n",
      "Hello Rohan\n"
     ]
    }
   ],
   "source": [
    "def x(name):\n",
    "    print(f\"Hello {name}\")\n",
    "\n",
    "for i in range(10):\n",
    "    x(\"Rohan\")"
   ]
  },
  {
   "cell_type": "code",
   "execution_count": 2,
   "metadata": {},
   "outputs": [],
   "source": [
    "# a. Write a Python Function to Make a Simple Calculator.\n",
    "\n",
    "# b. Write a Python Function to Find Factorial of Number.\n",
    "\n",
    "# c. Write a Python Function to check whether a number is odd or even.\n",
    "\n",
    "# d. Write a Python Function to calculate the sum of three numbers, if the values are equal then return thrice of their sum.\n",
    "\n",
    "# e. Write a Python Function to generate all the factors of a number."
   ]
  },
  {
   "cell_type": "code",
   "execution_count": null,
   "metadata": {},
   "outputs": [],
   "source": [
    "# a. Simple Calculator\n",
    "def calculator(a, b, operation):\n",
    "    if operation == 'add':\n",
    "        return a + b\n",
    "    elif operation == 'subtract':\n",
    "        return a - b\n",
    "    elif operation == 'multiply':\n",
    "        return a * b\n",
    "    elif operation == 'divide':\n",
    "        return a / b\n",
    "    else:\n",
    "        return \"Invalid operation\"\n",
    "\n",
    "# b. Factorial of a Number\n",
    "def factorial(n):\n",
    "    if n == 0:\n",
    "        return 1\n",
    "    else:\n",
    "        return n * factorial(n-1)\n",
    "\n",
    "# c. Check whether a number is odd or even\n",
    "def is_even(n):\n",
    "    return n % 2 == 0\n",
    "\n",
    "# d. Sum of three numbers, thrice if equal\n",
    "def sum_or_thrice(a, b, c):\n",
    "    sum_val = a + b + c\n",
    "    if a == b == c:\n",
    "        return sum_val * 3\n",
    "    else:\n",
    "        return sum_val\n",
    "\n",
    "# e. Generate all factors of a number\n",
    "def factors(n):\n",
    "    result = []\n",
    "    for i in range(1, n + 1):\n",
    "        if n % i == 0:\n",
    "            result.append(i)\n",
    "    return result\n",
    "\n",
    "# Example usage:\n",
    "print(calculator(10, 5, 'add'))  # Output: 15\n",
    "print(factorial(5))  # Output: 120\n",
    "print(is_even(4))  # Output: True\n",
    "print(sum_or_thrice(3, 3, 3))  # Output: 27\n",
    "print(factors(10))  # Output: [1, 2, 5, 10]"
   ]
  }
 ],
 "metadata": {
  "kernelspec": {
   "display_name": "PythonMachineLearning",
   "language": "python",
   "name": "python3"
  },
  "language_info": {
   "codemirror_mode": {
    "name": "ipython",
    "version": 3
   },
   "file_extension": ".py",
   "mimetype": "text/x-python",
   "name": "python",
   "nbconvert_exporter": "python",
   "pygments_lexer": "ipython3",
   "version": "3.10.14"
  }
 },
 "nbformat": 4,
 "nbformat_minor": 2
}
