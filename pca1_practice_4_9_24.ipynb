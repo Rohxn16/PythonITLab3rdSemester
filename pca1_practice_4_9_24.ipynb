{
 "cells": [
  {
   "cell_type": "markdown",
   "metadata": {},
   "source": [
    "\n",
    "## Practice Problems : Decision making\n",
    "1. Write a Python program that takes a character input from the user and prints whether it is a vowel or a consonant.\n",
    "2. Write a Python program that takes a year as input from the user and prints whether it is a leap year or not (year is divisible by 400, or divisible by 4 but not 100).\n",
    "3. Write a Python program that takes three integer inputs representing the sides of a triangle and prints whether it is an equilateral, isosceles, or scalene triangle.\n",
    "4. Write a Python program that takes a character input from the user and checks if it is an uppercase letter, lowercase letter, or a digit (you can use isupper(), islower(), isdigit() functions). \n"
   ]
  },
  {
   "cell_type": "code",
   "execution_count": 2,
   "metadata": {},
   "outputs": [
    {
     "name": "stdout",
     "output_type": "stream",
     "text": [
      "The character is a vowel.\n"
     ]
    }
   ],
   "source": [
    "# Problem 1: Vowel or Consonant\n",
    "character = input(\"Enter a character: \")\n",
    "\n",
    "if character.lower() in ['a', 'e', 'i', 'o', 'u']:\n",
    "    print(\"The character is a vowel.\")\n",
    "else:\n",
    "    print(\"The character is a consonant.\")\n",
    "\n"
   ]
  },
  {
   "cell_type": "code",
   "execution_count": 3,
   "metadata": {},
   "outputs": [
    {
     "name": "stdout",
     "output_type": "stream",
     "text": [
      "The year is a leap year.\n"
     ]
    }
   ],
   "source": [
    "\n",
    "# Problem 2: Leap Year\n",
    "year = int(input(\"Enter a year: \"))\n",
    "\n",
    "if year % 400 == 0 or (year % 4 == 0 and year % 100 != 0):\n",
    "    print(\"The year is a leap year.\")\n",
    "else:\n",
    "    print(\"The year is not a leap year.\")"
   ]
  },
  {
   "cell_type": "code",
   "execution_count": 4,
   "metadata": {},
   "outputs": [
    {
     "name": "stdout",
     "output_type": "stream",
     "text": [
      "The triangle is a scalene triangle.\n"
     ]
    }
   ],
   "source": [
    "\n",
    "\n",
    "# Problem 3: Triangle Type\n",
    "side1 = int(input(\"Enter the length of side 1: \"))\n",
    "side2 = int(input(\"Enter the length of side 2: \"))\n",
    "side3 = int(input(\"Enter the length of side 3: \"))\n",
    "\n",
    "if side1 == side2 == side3:\n",
    "    print(\"The triangle is an equilateral triangle.\")\n",
    "elif side1 == side2 or side1 == side3 or side2 == side3:\n",
    "    print(\"The triangle is an isosceles triangle.\")\n",
    "else:\n",
    "    print(\"The triangle is a scalene triangle.\")"
   ]
  },
  {
   "cell_type": "code",
   "execution_count": 5,
   "metadata": {},
   "outputs": [
    {
     "name": "stdout",
     "output_type": "stream",
     "text": [
      "The character is an uppercase letter.\n"
     ]
    }
   ],
   "source": [
    "\n",
    "# Problem 4: Uppercase, Lowercase, or Digit\n",
    "character = input(\"Enter a character: \")\n",
    "\n",
    "if character.isupper():\n",
    "    print(\"The character is an uppercase letter.\")\n",
    "elif character.islower():\n",
    "    print(\"The character is a lowercase letter.\")\n",
    "elif character.isdigit():\n",
    "    print(\"The character is a digit.\")\n",
    "else:\n",
    "    print(\"The character is neither an uppercase letter, lowercase letter, nor a digit.\")"
   ]
  },
  {
   "cell_type": "markdown",
   "metadata": {},
   "source": [
    "5. Write a program to check whether a person is eligible for voting or not. (Accept age from the user)\n",
    "\n",
    "6. Write a program to display \"Hello\" if a number entered by the user is a multiple of five, otherwise display \"Bye.\"\n",
    "\n",
    "7. Write a program to display the last digit of a number, and also display whether it is odd or even.\n",
    "\n",
    "8. Write a program to accept a number from 1 to 7 and display the name of the day. (e.g., 1 for Sunday, 2 for Monday)"
   ]
  },
  {
   "cell_type": "code",
   "execution_count": 4,
   "metadata": {},
   "outputs": [
    {
     "name": "stdout",
     "output_type": "stream",
     "text": [
      "You are eligible to vote.\n"
     ]
    }
   ],
   "source": [
    "# Problem 5: Voting Eligibility\n",
    "age = int(input(\"Enter your age: \"))\n",
    "\n",
    "if age >= 18:\n",
    "    print(\"You are eligible to vote.\")\n",
    "else:\n",
    "    print(\"You are not eligible to vote.\")\n"
   ]
  },
  {
   "cell_type": "code",
   "execution_count": 1,
   "metadata": {},
   "outputs": [
    {
     "name": "stdout",
     "output_type": "stream",
     "text": [
      "Hello\n"
     ]
    }
   ],
   "source": [
    "# Problem 6: Multiple of Five\n",
    "number = int(input(\"Enter a number: \"))\n",
    "\n",
    "if number % 5 == 0:\n",
    "    print(\"Hello\")\n",
    "else:\n",
    "    print(\"Bye\")"
   ]
  },
  {
   "cell_type": "code",
   "execution_count": 2,
   "metadata": {},
   "outputs": [
    {
     "name": "stdout",
     "output_type": "stream",
     "text": [
      "The last digit of the number is 5\n",
      "The last digit is odd.\n"
     ]
    }
   ],
   "source": [
    "# Problem 7: Last Digit and Odd/Even\n",
    "number = int(input(\"Enter a number: \"))\n",
    "\n",
    "last_digit = number % 10\n",
    "\n",
    "print(\"The last digit of the number is\", last_digit)\n",
    "\n",
    "if last_digit % 2 == 0:\n",
    "    print(\"The last digit is even.\")\n",
    "else:\n",
    "    print(\"The last digit is odd.\")"
   ]
  },
  {
   "cell_type": "code",
   "execution_count": 3,
   "metadata": {},
   "outputs": [
    {
     "name": "stdout",
     "output_type": "stream",
     "text": [
      "Thursday\n"
     ]
    }
   ],
   "source": [
    "# Problem 8: Name of the Day\n",
    "day_number = int(input(\"Enter a number from 1 to 7: \"))\n",
    "\n",
    "if day_number == 1:\n",
    "    print(\"Sunday\")\n",
    "elif day_number == 2:\n",
    "    print(\"Monday\")\n",
    "elif day_number == 3:\n",
    "    print(\"Tuesday\")\n",
    "elif day_number == 4:\n",
    "    print(\"Wednesday\")\n",
    "elif day_number == 5:\n",
    "    print(\"Thursday\")\n",
    "elif day_number == 6:\n",
    "    print(\"Friday\")\n",
    "elif day_number == 7:\n",
    "    print(\"Saturday\")\n",
    "else:\n",
    "    print(\"Invalid input. Please enter a number from 1 to 7.\")"
   ]
  },
  {
   "cell_type": "markdown",
   "metadata": {},
   "source": []
  }
 ],
 "metadata": {
  "kernelspec": {
   "display_name": "PythonMachineLearning",
   "language": "python",
   "name": "python3"
  },
  "language_info": {
   "codemirror_mode": {
    "name": "ipython",
    "version": 3
   },
   "file_extension": ".py",
   "mimetype": "text/x-python",
   "name": "python",
   "nbconvert_exporter": "python",
   "pygments_lexer": "ipython3",
   "version": "3.10.14"
  }
 },
 "nbformat": 4,
 "nbformat_minor": 2
}
