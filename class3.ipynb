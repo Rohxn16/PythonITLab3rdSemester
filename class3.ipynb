{
 "cells": [
  {
   "cell_type": "markdown",
   "metadata": {},
   "source": [
    "# 7 - 8 - 24\n",
    "\n",
    "### Questions: \n",
    "1. Check if a number is odd or even.\n",
    "2. Check if a number is +ve or -ve or 0.\n",
    "3. Find the largest of 3 numbers.\n",
    "4. Find the sqrt of a given number.\n",
    "5. Check given year is leap year or not.\n"
   ]
  },
  {
   "cell_type": "code",
   "execution_count": 1,
   "metadata": {},
   "outputs": [
    {
     "name": "stdout",
     "output_type": "stream",
     "text": [
      "Even\n"
     ]
    }
   ],
   "source": [
    "num = input(\"Enter a number: \")\n",
    "if int(num) % 2 == 0:\n",
    "    print(\"Even\")\n",
    "else:\n",
    "    print(\"Odd\")"
   ]
  },
  {
   "cell_type": "code",
   "execution_count": 2,
   "metadata": {},
   "outputs": [
    {
     "name": "stdout",
     "output_type": "stream",
     "text": [
      "Zero\n"
     ]
    }
   ],
   "source": [
    "num = input(\"Enter a number: \")\n",
    "# check +ve neg 0\n",
    "if int(num) > 0:\n",
    "    print(\"Positive\")\n",
    "elif int(num) < 0:\n",
    "    print(\"Negative\")\n",
    "else:\n",
    "    print(\"Zero\")"
   ]
  },
  {
   "cell_type": "code",
   "execution_count": 4,
   "metadata": {},
   "outputs": [
    {
     "name": "stdout",
     "output_type": "stream",
     "text": [
      "3\n"
     ]
    }
   ],
   "source": [
    "#find largest of 3 numbers\n",
    "num1 = input(\"Enter first number: \")\n",
    "num2 = input(\"Enter second number: \")\n",
    "num3 = input(\"Enter third number: \")\n",
    "if int(num1) > int(num2) and int(num1) > int(num3):\n",
    "    print(num1)\n",
    "elif int(num2) > int(num1) and int(num2) > int(num3):\n",
    "    print(num2)\n",
    "else:\n",
    "    print(num3)\n"
   ]
  },
  {
   "cell_type": "code",
   "execution_count": 5,
   "metadata": {},
   "outputs": [
    {
     "name": "stdout",
     "output_type": "stream",
     "text": [
      "3.7416573867739413\n"
     ]
    }
   ],
   "source": [
    "# sqrt\n",
    "num = input(\"Enter a number: \")\n",
    "print(int(num) ** 0.5)\n"
   ]
  },
  {
   "cell_type": "code",
   "execution_count": 6,
   "metadata": {},
   "outputs": [
    {
     "name": "stdout",
     "output_type": "stream",
     "text": [
      "Leap year\n"
     ]
    }
   ],
   "source": [
    "#check leap year\n",
    "year = input(\"Enter a year: \")\n",
    "if int(year) % 4 == 0:\n",
    "    if int(year) % 100 == 0:\n",
    "        if int(year) % 400 == 0:\n",
    "            print(\"Leap year\")\n",
    "        else:\n",
    "            print(\"Not a leap year\")\n",
    "    else:\n",
    "        print(\"Leap year\")"
   ]
  },
  {
   "cell_type": "code",
   "execution_count": null,
   "metadata": {},
   "outputs": [],
   "source": [
    "# take marks of 5 subjects and print grade based on avg without array\n",
    "\n",
    "sub1 = input(\"Enter marks of subject 1: \")\n",
    "sub2 = input(\"Enter marks of subject 2: \")\n",
    "sub3 = input(\"Enter marks of subject 3: \")\n",
    "sub4 = input(\"Enter marks of subject 4: \")\n",
    "sub5 = input(\"Enter marks of subject 5: \")\n",
    "\n",
    "avg = (int(sub1) + int(sub2) + int(sub3) + int(sub4) + int(sub5)) / 5\n",
    "if avg >= 90:\n",
    "    print(\"Grade A\")\n",
    "elif avg >= 80:\n",
    "    print(\"Grade B\")\n",
    "elif avg >= 70:\n",
    "    print(\"Grade C\")\n",
    "elif avg >= 60:\n",
    "    print(\"Grade D\")\n",
    "else:\n",
    "    print(\"Grade F\")"
   ]
  }
 ],
 "metadata": {
  "kernelspec": {
   "display_name": "PythonMachineLearning",
   "language": "python",
   "name": "python3"
  },
  "language_info": {
   "codemirror_mode": {
    "name": "ipython",
    "version": 3
   },
   "file_extension": ".py",
   "mimetype": "text/x-python",
   "name": "python",
   "nbconvert_exporter": "python",
   "pygments_lexer": "ipython3",
   "version": "3.10.14"
  }
 },
 "nbformat": 4,
 "nbformat_minor": 2
}
